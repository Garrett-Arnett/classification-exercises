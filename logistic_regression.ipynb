{
 "cells": [
  {
   "cell_type": "code",
   "execution_count": 1,
   "id": "882afa35",
   "metadata": {},
   "outputs": [],
   "source": [
    "import numpy as np\n",
    "import pandas as pd\n",
    "from sklearn.linear_model import LogisticRegression\n",
    "import acquire\n",
    "import matplotlib.pyplot as plt\n",
    "from sklearn.metrics import classification_report, confusion_matrix\n",
    "import seaborn as sns\n",
    "\n",
    "import warnings\n",
    "warnings.filterwarnings(\"ignore\")"
   ]
  },
  {
   "cell_type": "code",
   "execution_count": 2,
   "id": "a3457378",
   "metadata": {},
   "outputs": [
    {
     "data": {
      "text/plain": [
       "((498, 9), (214, 9), (179, 9))"
      ]
     },
     "execution_count": 2,
     "metadata": {},
     "output_type": "execute_result"
    }
   ],
   "source": [
    "df = acquire.get_titanic_data()\n",
    "# prepare the data\n",
    "train, validate, test = acquire.prep_titanic_data(df)\n",
    "\n",
    "# drop object columns and create X_train of features only \n",
    "# and y_train of survived only. \n",
    "X_train = train.drop(columns=['survived'])\n",
    "y_train = train.survived\n",
    "\n",
    "X_validate = validate.drop(columns=['survived'])\n",
    "y_validate = validate.survived\n",
    "\n",
    "X_test = test.drop(columns=['survived'])\n",
    "y_test = test.survived\n",
    "\n",
    "# check the shape\n",
    "X_train.shape, X_validate.shape, X_test.shape\n"
   ]
  },
  {
   "cell_type": "markdown",
   "id": "a2499dea",
   "metadata": {},
   "source": [
    "# Baseline"
   ]
  },
  {
   "cell_type": "code",
   "execution_count": 3,
   "id": "c0281488",
   "metadata": {},
   "outputs": [],
   "source": [
    "def establish_baseline(y_train):\n",
    "    #  establish the value we will predict for all observations\n",
    "    baseline_prediction = y_train.mode()\n",
    "\n",
    "    # create a series of predictions with that value, \n",
    "    # the same length as our training set\n",
    "    y_train_pred = pd.Series([0]*len(y_train))\n",
    "\n",
    "    # compute accuracy of baseline\n",
    "    cm = confusion_matrix(y_train, y_train_pred)\n",
    "    tn, fp, fn, tp = cm.ravel()\n",
    "\n",
    "    accuracy = (tp+tn)/(tn+fp+fn+tp)\n",
    "    return accuracy\n"
   ]
  },
  {
   "cell_type": "code",
   "execution_count": 4,
   "id": "e41f7d30",
   "metadata": {},
   "outputs": [],
   "source": [
    "baseline_accuracy = establish_baseline(y_train)"
   ]
  },
  {
   "cell_type": "markdown",
   "id": "83573132",
   "metadata": {},
   "source": [
    "## 1. Create a model that includes only age, fare, and pclass. Does this model perform better than your baseline?"
   ]
  },
  {
   "cell_type": "code",
   "execution_count": 5,
   "id": "dcf62136",
   "metadata": {},
   "outputs": [
    {
     "name": "stdout",
     "output_type": "stream",
     "text": [
      "Train Accuracy: 0.6947791164658634\n",
      "Baseline Accuracy: 0.6164658634538153\n"
     ]
    }
   ],
   "source": [
    "logit1 = LogisticRegression(C=1, \n",
    "                           random_state=1349, \n",
    "                           intercept_scaling=1, \n",
    "                           solver='liblinear'\n",
    "                          )\n",
    "\n",
    "# fit model with age, pclass and fare as only features\n",
    "logit1.fit(X_train[['age', 'pclass', 'fare']], y_train)\n",
    "\n",
    "# compute accuracy\n",
    "train_accuracy = logit1.score(X_train[['age', 'pclass', 'fare']], \n",
    "                             y_train)\n",
    "\n",
    "# compare this model with baseline\n",
    "print(f'Train Accuracy: {train_accuracy}')\n",
    "print(f'Baseline Accuracy: {baseline_accuracy}')\n"
   ]
  },
  {
   "cell_type": "markdown",
   "id": "1215be80",
   "metadata": {},
   "source": [
    "Model does better than the baseline only with age, pclass and fare"
   ]
  },
  {
   "cell_type": "markdown",
   "id": "8d7d6dc2",
   "metadata": {},
   "source": [
    "## 2.Include sex in your model as well. Note that you'll need to encode or create a dummy variable of this feature before including it in a model.\n",
    "\n"
   ]
  },
  {
   "cell_type": "code",
   "execution_count": 6,
   "id": "838e98f6",
   "metadata": {},
   "outputs": [
    {
     "name": "stdout",
     "output_type": "stream",
     "text": [
      "Train Accuracy: 0.7971887550200804\n",
      "Baseline Accuracy: 0.6164658634538153\n"
     ]
    }
   ],
   "source": [
    "logit2 = LogisticRegression(C=1,\n",
    "                           random_state=1349, \n",
    "                           intercept_scaling=1, \n",
    "                           solver='liblinear'\n",
    "                          )\n",
    "\n",
    "# fit model with age, pclass, fare and sex_male as only features\n",
    "logit2.fit(X_train[['age', 'pclass', 'fare', 'sex_male']], \n",
    "          y_train)\n",
    "\n",
    "# compute accuracy\n",
    "train_accuracy = logit2.score(X_train[['age', 'pclass', 'fare', 'sex_male']], \n",
    "                             y_train)\n",
    "\n",
    "# compare this model with baseline\n",
    "print(f'Train Accuracy: {train_accuracy}')\n",
    "print(f'Baseline Accuracy: {baseline_accuracy}')"
   ]
  },
  {
   "cell_type": "markdown",
   "id": "5e7536e0",
   "metadata": {},
   "source": [
    "including sex, it does better than baseline."
   ]
  },
  {
   "cell_type": "markdown",
   "id": "6aff325f",
   "metadata": {},
   "source": [
    "## 3. Try out other combinations of features and models."
   ]
  },
  {
   "cell_type": "code",
   "execution_count": 7,
   "id": "b5916813",
   "metadata": {},
   "outputs": [
    {
     "name": "stdout",
     "output_type": "stream",
     "text": [
      "Train Accuracy: 0.8072289156626506\n",
      "Baseline Accuracy: 0.6164658634538153\n"
     ]
    }
   ],
   "source": [
    "logit3 = LogisticRegression(C=1, \n",
    "                           random_state=1349, \n",
    "                           intercept_scaling=1, \n",
    "                           solver='liblinear'\n",
    "                          )\n",
    "\n",
    "# fit model with all features\n",
    "logit3.fit(X_train, y_train)\n",
    "\n",
    "# compute accuracy\n",
    "train_accuracy = logit3.score(X_train, y_train)\n",
    "\n",
    "# compare this model with baseline\n",
    "print(f'Train Accuracy: {train_accuracy}')\n",
    "print(f'Baseline Accuracy: {baseline_accuracy}')\n"
   ]
  },
  {
   "cell_type": "code",
   "execution_count": 8,
   "id": "a45c1fdd",
   "metadata": {},
   "outputs": [
    {
     "name": "stdout",
     "output_type": "stream",
     "text": [
      "Train Accuracy: 0.8172690763052208\n",
      "Baseline Accuracy: 0.6164658634538153\n"
     ]
    }
   ],
   "source": [
    "logit4 = LogisticRegression(C=1, \n",
    "                           random_state=1349, \n",
    "                           intercept_scaling=1, \n",
    "                           solver='lbfgs'\n",
    "                          )\n",
    "\n",
    "# fit model with all features\n",
    "logit4.fit(X_train, y_train)\n",
    "\n",
    "# compute accuracy\n",
    "train_acc4 = logit4.score(X_train, y_train)\n",
    "\n",
    "# compare this model with baseline\n",
    "print(f'Train Accuracy: {train_acc4}')\n",
    "print(f'Baseline Accuracy: {baseline_accuracy}')"
   ]
  },
  {
   "cell_type": "code",
   "execution_count": 9,
   "id": "7b81a83a",
   "metadata": {},
   "outputs": [
    {
     "name": "stdout",
     "output_type": "stream",
     "text": [
      "Train Accuracy: 0.8092369477911646\n",
      "Baseline Accuracy: 0.6164658634538153\n"
     ]
    }
   ],
   "source": [
    "logit5 = LogisticRegression(C=1,\n",
    "                            class_weight='balanced',\n",
    "                            random_state=1349, \n",
    "                            intercept_scaling=1, \n",
    "                            solver='lbfgs'\n",
    "                           )\n",
    "\n",
    "# fit model with all features\n",
    "logit5.fit(X_train, y_train)\n",
    "\n",
    "# compute accuracy\n",
    "train_acc5 = logit5.score(X_train, y_train)\n",
    "\n",
    "# compare this model with baseline\n",
    "print(f'Train Accuracy: {train_acc5}')\n",
    "print(f'Baseline Accuracy: {baseline_accuracy}')"
   ]
  },
  {
   "cell_type": "code",
   "execution_count": 10,
   "id": "18e60f3f",
   "metadata": {},
   "outputs": [
    {
     "name": "stdout",
     "output_type": "stream",
     "text": [
      "Train Accuracy: 0.8273092369477911\n",
      "Baseline Accuracy: 0.6164658634538153\n"
     ]
    }
   ],
   "source": [
    "logit6 = LogisticRegression(C=0.1,\n",
    "                            random_state=1349, \n",
    "                            intercept_scaling=1, \n",
    "                            solver='lbfgs'\n",
    "                           )\n",
    "\n",
    "# fit model with all features\n",
    "logit6.fit(X_train, y_train)\n",
    "\n",
    "# compute accuracy\n",
    "train_acc6 = logit6.score(X_train, y_train)\n",
    "\n",
    "# compare this model with baseline\n",
    "print(f'Train Accuracy: {train_acc6}')\n",
    "print(f'Baseline Accuracy: {baseline_accuracy}')\n"
   ]
  },
  {
   "cell_type": "markdown",
   "id": "bdacb5c4",
   "metadata": {},
   "source": [
    "My 3 best models are currently: logit4, logit5, logit6"
   ]
  },
  {
   "cell_type": "markdown",
   "id": "070d7743",
   "metadata": {},
   "source": [
    "## 4. Use you best 3 models to predict and evaluate on your validate sample. 4. "
   ]
  },
  {
   "cell_type": "code",
   "execution_count": 11,
   "id": "fedcf366",
   "metadata": {},
   "outputs": [
    {
     "data": {
      "text/html": [
       "<div>\n",
       "<style scoped>\n",
       "    .dataframe tbody tr th:only-of-type {\n",
       "        vertical-align: middle;\n",
       "    }\n",
       "\n",
       "    .dataframe tbody tr th {\n",
       "        vertical-align: top;\n",
       "    }\n",
       "\n",
       "    .dataframe thead th {\n",
       "        text-align: right;\n",
       "    }\n",
       "</style>\n",
       "<table border=\"1\" class=\"dataframe\">\n",
       "  <thead>\n",
       "    <tr style=\"text-align: right;\">\n",
       "      <th></th>\n",
       "      <th>model</th>\n",
       "      <th>in-sample accuracy</th>\n",
       "      <th>out-of-sample accuracy</th>\n",
       "    </tr>\n",
       "  </thead>\n",
       "  <tbody>\n",
       "    <tr>\n",
       "      <th>0</th>\n",
       "      <td>4</td>\n",
       "      <td>0.817269</td>\n",
       "      <td>0.789720</td>\n",
       "    </tr>\n",
       "    <tr>\n",
       "      <th>1</th>\n",
       "      <td>5</td>\n",
       "      <td>0.809237</td>\n",
       "      <td>0.775701</td>\n",
       "    </tr>\n",
       "    <tr>\n",
       "      <th>2</th>\n",
       "      <td>6</td>\n",
       "      <td>0.827309</td>\n",
       "      <td>0.789720</td>\n",
       "    </tr>\n",
       "  </tbody>\n",
       "</table>\n",
       "</div>"
      ],
      "text/plain": [
       "   model  in-sample accuracy  out-of-sample accuracy\n",
       "0      4            0.817269                0.789720\n",
       "1      5            0.809237                0.775701\n",
       "2      6            0.827309                0.789720"
      ]
     },
     "execution_count": 11,
     "metadata": {},
     "output_type": "execute_result"
    }
   ],
   "source": [
    "# use logit4 to make predictions for the X_validate observations\n",
    "y_val_pred4 = logit4.predict(X_validate)\n",
    "# compute accuracy\n",
    "val_acc4 = logit4.score(X_validate, y_validate)\n",
    "\n",
    "model4 = [4, train_acc4, val_acc4]\n",
    "\n",
    "\n",
    "y_val_pred5 = logit5.predict(X_validate)\n",
    "# compute accuracy\n",
    "val_acc5 = logit5.score(X_validate, y_validate)\n",
    "\n",
    "model5 = [5, train_acc5, val_acc5]\n",
    "\n",
    "\n",
    "y_val_pred6 = logit6.predict(X_validate)\n",
    "# compute accuracy\n",
    "val_acc6 = logit6.score(X_validate, y_validate)\n",
    "\n",
    "model6 = [6, train_acc6, val_acc6]\n",
    "\n",
    "pd.DataFrame([model4, model5, model6], columns=['model', 'in-sample accuracy','out-of-sample accuracy'])\n",
    "            "
   ]
  },
  {
   "cell_type": "markdown",
   "id": "f3bbda92",
   "metadata": {},
   "source": [
    "## 5. Choose you best model from the validation performation, and evaluate it on the test dataset. How do the performance metrics compare to validate? to train?"
   ]
  },
  {
   "cell_type": "code",
   "execution_count": 12,
   "id": "1eed0de6",
   "metadata": {},
   "outputs": [
    {
     "data": {
      "text/plain": [
       "0.8044692737430168"
      ]
     },
     "execution_count": 12,
     "metadata": {},
     "output_type": "execute_result"
    }
   ],
   "source": [
    "y_test_pred = logit6.predict(X_test)\n",
    "# compute accuracy\n",
    "test_acc = logit6.score(X_test, y_test)\n",
    "\n",
    "test_acc"
   ]
  },
  {
   "cell_type": "code",
   "execution_count": 13,
   "id": "f5be7cc5",
   "metadata": {},
   "outputs": [
    {
     "name": "stdout",
     "output_type": "stream",
     "text": [
      "Coefficient: \n",
      " [[-8.13998835e-01 -2.69540899e-02 -3.35823600e-01 -1.51148031e-02\n",
      "   1.08559796e-03 -3.63926644e-01 -1.78016027e+00  3.18893204e-01\n",
      "  -1.28228221e-01]]\n",
      "Intercept: \n",
      " [3.67461745]\n"
     ]
    }
   ],
   "source": [
    "print('Coefficient: \\n', logit6.coef_)\n",
    "print('Intercept: \\n', logit6.intercept_)"
   ]
  },
  {
   "cell_type": "code",
   "execution_count": 14,
   "id": "f877f3a1",
   "metadata": {},
   "outputs": [
    {
     "data": {
      "image/png": "[encoded data removed]",
      "text/plain": [
       "<Figure size 640x480 with 1 Axes>"
      ]
     },
     "metadata": {},
     "output_type": "display_data"
    }
   ],
   "source": [
    "y_pred_proba = logit6.predict_proba(X_test)\n",
    "# select the 2nd item in the array to get prob of survival (1)\n",
    "y_pred_proba = np.array([i[1] for i in y_pred_proba])\n",
    "\n",
    "test_results = pd.DataFrame({'probability': y_pred_proba, \n",
    "                             'prediction': y_test_pred,\n",
    "                             'actual': y_test})\n",
    "\n",
    "sns.scatterplot(x='probability', y='prediction', \n",
    "                data=test_results, \n",
    "                hue='actual'\n",
    "               )\n",
    "plt.show()"
   ]
  },
  {
   "cell_type": "markdown",
   "id": "e5bcc32a",
   "metadata": {},
   "source": [
    "Accuracy is a little higher on test than on validate, and it is lower on test than train."
   ]
  },
  {
   "cell_type": "code",
   "execution_count": null,
   "id": "09bfe4a5",
   "metadata": {},
   "outputs": [],
   "source": []
  },
  {
   "cell_type": "code",
   "execution_count": null,
   "id": "3ef26e11",
   "metadata": {},
   "outputs": [],
   "source": []
  },
  {
   "cell_type": "code",
   "execution_count": null,
   "id": "1a16508c",
   "metadata": {},
   "outputs": [],
   "source": []
  },
  {
   "cell_type": "code",
   "execution_count": null,
   "id": "43e784f6",
   "metadata": {},
   "outputs": [],
   "source": []
  },
  {
   "cell_type": "code",
   "execution_count": null,
   "id": "e52d2b53",
   "metadata": {},
   "outputs": [],
   "source": []
  },
  {
   "cell_type": "code",
   "execution_count": null,
   "id": "600ab67a",
   "metadata": {},
   "outputs": [],
   "source": []
  },
  {
   "cell_type": "code",
   "execution_count": null,
   "id": "a847f4a6",
   "metadata": {},
   "outputs": [],
   "source": []
  },
  {
   "cell_type": "code",
   "execution_count": null,
   "id": "a3c604c9",
   "metadata": {},
   "outputs": [],
   "source": []
  },
  {
   "cell_type": "code",
   "execution_count": null,
   "id": "68a6237c",
   "metadata": {},
   "outputs": [],
   "source": []
  },
  {
   "cell_type": "code",
   "execution_count": null,
   "id": "c137d9c5",
   "metadata": {},
   "outputs": [],
   "source": []
  },
  {
   "cell_type": "code",
   "execution_count": null,
   "id": "f0295557",
   "metadata": {},
   "outputs": [],
   "source": []
  },
  {
   "cell_type": "code",
   "execution_count": null,
   "id": "a864991a",
   "metadata": {},
   "outputs": [],
   "source": []
  },
  {
   "cell_type": "code",
   "execution_count": null,
   "id": "5c73f8f3",
   "metadata": {},
   "outputs": [],
   "source": []
  },
  {
   "cell_type": "code",
   "execution_count": null,
   "id": "129108f0",
   "metadata": {},
   "outputs": [],
   "source": []
  },
  {
   "cell_type": "code",
   "execution_count": null,
   "id": "b97e269a",
   "metadata": {},
   "outputs": [],
   "source": []
  },
  {
   "cell_type": "code",
   "execution_count": null,
   "id": "85c32d2b",
   "metadata": {},
   "outputs": [],
   "source": []
  },
  {
   "cell_type": "code",
   "execution_count": null,
   "id": "42a0126b",
   "metadata": {},
   "outputs": [],
   "source": []
  },
  {
   "cell_type": "code",
   "execution_count": null,
   "id": "7311a3da",
   "metadata": {},
   "outputs": [],
   "source": []
  }
 ],
 "metadata": {
  "kernelspec": {
   "display_name": "Python 3 (ipykernel)",
   "language": "python",
   "name": "python3"
  },
  "language_info": {
   "codemirror_mode": {
    "name": "ipython",
    "version": 3
   },
   "file_extension": ".py",
   "mimetype": "text/x-python",
   "name": "python",
   "nbconvert_exporter": "python",
   "pygments_lexer": "ipython3",
   "version": "3.9.13"
  }
 },
 "nbformat": 4,
 "nbformat_minor": 5
}
